{
 "cells": [
  {
   "cell_type": "markdown",
   "metadata": {},
   "source": [
    "# Internship Session 11/1: numpy arrays refresher\n",
    "![sea turtle!](https://kids.nationalgeographic.com/content/dam/kids/photos/animals/Reptiles/A-G/green-sea-turtle-closeup-underwater.adapt.945.1.jpg)"
   ]
  },
  {
   "cell_type": "markdown",
   "metadata": {},
   "source": [
    "### Exercises 1 & 2\n",
    "1. In the array below, how can you select the element '222'? What command is required? What about the element '11'\n",
    "2. In the array below, how can you select the second row? What about the third column? (Assume that the first row means index 0, and so on)"
   ]
  },
  {
   "cell_type": "code",
   "execution_count": 32,
   "metadata": {},
   "outputs": [
    {
     "name": "stdout",
     "output_type": "stream",
     "text": [
      "[[  1   2  10  11]\n",
      " [  2   3   7   9]\n",
      " [222   1   3  14]\n",
      " [100 101 223  17]]\n"
     ]
    }
   ],
   "source": [
    "import numpy as np\n",
    "a = np.array([[1, 2, 10, 11], [2, 3, 7, 9], [222, 1,3, 14], [100, 101, 223, 17]])\n",
    "print(a)\n",
    "#a[#what goes here?]"
   ]
  },
  {
   "cell_type": "markdown",
   "metadata": {},
   "source": [
    "### Exercise 3\n",
    "3. In the array below, how can you select the element '19'? What about the element '28'?"
   ]
  },
  {
   "cell_type": "code",
   "execution_count": 27,
   "metadata": {},
   "outputs": [
    {
     "data": {
      "text/plain": [
       "array([[[ 0,  1,  2,  3],\n",
       "        [ 4,  5,  6,  7]],\n",
       "\n",
       "       [[ 8,  9, 10, 11],\n",
       "        [12, 13, 14, 15]],\n",
       "\n",
       "       [[16, 17, 18, 19],\n",
       "        [20, 21, 22, 23]],\n",
       "\n",
       "       [[24, 25, 26, 27],\n",
       "        [28, 29, 30, 31]]])"
      ]
     },
     "execution_count": 27,
     "metadata": {},
     "output_type": "execute_result"
    }
   ],
   "source": [
    "b = np.arange(32).reshape(4,2,4)\n",
    "b"
   ]
  },
  {
   "cell_type": "markdown",
   "metadata": {},
   "source": [
    "### Challenges\n",
    "In the array below, how can you select the first row in the second group? What about all elements in the first group? What about all elements in the second column?"
   ]
  },
  {
   "cell_type": "code",
   "execution_count": 33,
   "metadata": {},
   "outputs": [
    {
     "data": {
      "text/plain": [
       "array([[[ 0,  1,  2,  3],\n",
       "        [ 4,  5,  6,  7]],\n",
       "\n",
       "       [[ 8,  9, 10, 11],\n",
       "        [12, 13, 14, 15]],\n",
       "\n",
       "       [[16, 17, 18, 19],\n",
       "        [20, 21, 22, 23]],\n",
       "\n",
       "       [[24, 25, 26, 27],\n",
       "        [28, 29, 30, 31]]])"
      ]
     },
     "execution_count": 33,
     "metadata": {},
     "output_type": "execute_result"
    }
   ],
   "source": [
    "b = np.arange(32).reshape(4,2,4)\n",
    "b"
   ]
  },
  {
   "cell_type": "markdown",
   "metadata": {},
   "source": [
    "### More challenges\n",
    "How many dimensions does the array below have? What is its shape?\n",
    "How would you select the upper-right-corner element? What about the lower-left-corner element?"
   ]
  },
  {
   "cell_type": "code",
   "execution_count": 47,
   "metadata": {},
   "outputs": [
    {
     "data": {
      "text/plain": [
       "array([[[[0.0563151 , 0.27249155, 0.89855616, 0.11473664],\n",
       "         [0.68748616, 0.55274386, 0.96177529, 0.60566423],\n",
       "         [0.24251094, 0.25865669, 0.77526765, 0.44701775]],\n",
       "\n",
       "        [[0.28401711, 0.93898669, 0.62191578, 0.70930346],\n",
       "         [0.25098372, 0.30152189, 0.85615966, 0.8744525 ],\n",
       "         [0.97344181, 0.15263011, 0.99784537, 0.87525214]]],\n",
       "\n",
       "\n",
       "       [[[0.90000432, 0.25860898, 0.33950206, 0.46402271],\n",
       "         [0.78590954, 0.72957533, 0.89594684, 0.06424857],\n",
       "         [0.63727182, 0.75206629, 0.78578794, 0.16578737]],\n",
       "\n",
       "        [[0.80873221, 0.71898517, 0.19643637, 0.44136108],\n",
       "         [0.83745689, 0.67791866, 0.16954483, 0.9692419 ],\n",
       "         [0.54316454, 0.38004336, 0.81685491, 0.95207931]]]])"
      ]
     },
     "execution_count": 47,
     "metadata": {},
     "output_type": "execute_result"
    }
   ],
   "source": [
    "d = np.random.rand(2, 2, 3, 4)\n",
    "d"
   ]
  }
 ],
 "metadata": {
  "kernelspec": {
   "display_name": "Python 3",
   "language": "python",
   "name": "python3"
  },
  "language_info": {
   "codemirror_mode": {
    "name": "ipython",
    "version": 3
   },
   "file_extension": ".py",
   "mimetype": "text/x-python",
   "name": "python",
   "nbconvert_exporter": "python",
   "pygments_lexer": "ipython3",
   "version": "3.6.6"
  }
 },
 "nbformat": 4,
 "nbformat_minor": 2
}
