{
 "cells": [
  {
   "cell_type": "markdown",
   "metadata": {},
   "source": [
    "# Here are some visuals to help you understand numpy arrays better\n",
    "\n",
    "### And, as per usual, a picture of a cute sea animal.\n",
    "![manatee](https://i.huffpost.com/gen/1272530/thumbs/o-MANATEES-900.jpg?5)"
   ]
  },
  {
   "cell_type": "markdown",
   "metadata": {},
   "source": [
    "### We'll first create a 4x5 array. "
   ]
  },
  {
   "cell_type": "code",
   "execution_count": 4,
   "metadata": {},
   "outputs": [],
   "source": [
    "import numpy as np\n",
    "a = np.arange(1,60,3).reshape(4,5)"
   ]
  },
  {
   "cell_type": "markdown",
   "metadata": {},
   "source": [
    "Our array, a, looks like this:\n",
    "\n",
    "`a = array([[ 1,  4,  7, 10, 13],\n",
    "       [16, 19, 22, 25, 28],\n",
    "       [31, 34, 37, 40, 43],\n",
    "       [46, 49, 52, 55, 58]])` \n",
    "\n",
    "![image](https://raw.githubusercontent.com/katyabbott/BridgeUP-STEM-Oceans-Six/master/photos/Screen%20Shot%202018-11-02%20at%205.23.03%20PM.png?token=AmUbDjQ-T25rf3qNJeLMqHZmzsdnkFljks5b5gjywA%3D%3D)\n",
    "\n"
   ]
  },
  {
   "cell_type": "markdown",
   "metadata": {},
   "source": [
    "Now, what if we want to select a part of this array? For example, we want to select the element '25'? "
   ]
  },
  {
   "cell_type": "code",
   "execution_count": 1,
   "metadata": {},
   "outputs": [],
   "source": [
    "#Your code here. The ouput should be 25"
   ]
  },
  {
   "cell_type": "markdown",
   "metadata": {},
   "source": [
    "It can help to think of your selection as an intersection of indices.\n",
    "\n",
    "![image](https://raw.githubusercontent.com/katyabbott/BridgeUP-STEM-Oceans-Six/master/photos/Screen%20Shot%202018-11-02%20at%205.40.45%20PM.png?token=AmUbDu0CvC6k9S0EZUEkyfzSCSchcLoCks5b5g0lwA%3D%3D)"
   ]
  },
  {
   "cell_type": "markdown",
   "metadata": {},
   "source": [
    "Now, let's try selecting just the first row."
   ]
  },
  {
   "cell_type": "code",
   "execution_count": 8,
   "metadata": {},
   "outputs": [],
   "source": [
    "#Your code here. The output should be the first row."
   ]
  },
  {
   "cell_type": "markdown",
   "metadata": {},
   "source": [
    "![image](https://raw.githubusercontent.com/katyabbott/BridgeUP-STEM-Oceans-Six/master/photos/firstrow.png?token=AmUbDtFQ-Zb9E3t6yFzDMbNWHnJ7UT89ks5b5g7ZwA%3D%3D)"
   ]
  },
  {
   "cell_type": "markdown",
   "metadata": {},
   "source": [
    "What if we want to select the third column? "
   ]
  },
  {
   "cell_type": "code",
   "execution_count": 9,
   "metadata": {},
   "outputs": [],
   "source": [
    "#Your code here. The output should be the third column"
   ]
  },
  {
   "cell_type": "markdown",
   "metadata": {},
   "source": [
    "![image](https://raw.githubusercontent.com/katyabbott/BridgeUP-STEM-Oceans-Six/master/photos/middlecolumn.png?token=AmUbDsqvK5YKRz3Eg76WpyA3rdv8wEO3ks5b5hEewA%3D%3D)"
   ]
  },
  {
   "cell_type": "markdown",
   "metadata": {},
   "source": [
    "Now, what if we want to select part of a column or row? Here is where the colon notation gets tricky.\n",
    "\n",
    "I want to return the elements '22' and '37', in their own array. Using colon notation can return a range of values. \n",
    "\n",
    "However, Python uses what we call an \"uninclusive\" range. The last number in any user-specified range is not included, by default.\n",
    "\n",
    "For example, using the \"range\" function, such as `range(0, 10)`, returns the numbers 0 through 9. "
   ]
  },
  {
   "cell_type": "code",
   "execution_count": 10,
   "metadata": {},
   "outputs": [
    {
     "name": "stdout",
     "output_type": "stream",
     "text": [
      "0\n",
      "1\n",
      "2\n",
      "3\n",
      "4\n",
      "5\n",
      "6\n",
      "7\n",
      "8\n",
      "9\n"
     ]
    }
   ],
   "source": [
    "for i in range(0,10):\n",
    "    print(i)"
   ]
  },
  {
   "cell_type": "markdown",
   "metadata": {},
   "source": [
    "How do we select '22' and '37'? What is the intersection we're looking for?"
   ]
  },
  {
   "cell_type": "code",
   "execution_count": 11,
   "metadata": {},
   "outputs": [],
   "source": [
    "#Your code here"
   ]
  },
  {
   "cell_type": "markdown",
   "metadata": {},
   "source": [
    "![image](https://raw.githubusercontent.com/katyabbott/BridgeUP-STEM-Oceans-Six/master/photos/partofcolumn.png?token=AmUbDgkajd3VG3s8K7PmL1J3qcTxASxKks5b5hOWwA%3D%3D)"
   ]
  },
  {
   "cell_type": "markdown",
   "metadata": {},
   "source": [
    "## What about 3D arrays?\n",
    "### We'll first create a 2x2x5 array."
   ]
  },
  {
   "cell_type": "code",
   "execution_count": 12,
   "metadata": {},
   "outputs": [],
   "source": [
    "a = np.arange(1,60,3).reshape(2,2,5)"
   ]
  },
  {
   "cell_type": "markdown",
   "metadata": {},
   "source": [
    "`a = array([[[ 1,  4,  7, 10, 13],\n",
    "        [16, 19, 22, 25, 28]],`\n",
    "\n",
    "       [[31, 34, 37, 40, 43],\n",
    "        [46, 49, 52, 55, 58]]])\n",
    "        \n",
    "Graphically, it looks like this. \n",
    "![image](https://raw.githubusercontent.com/katyabbott/BridgeUP-STEM-Oceans-Six/master/photos/Screen%20Shot%202018-11-02%20at%206.14.07%20PM.png?token=AmUbDm9faLdtO0-1w5HdHjhtWVhPoUDOks5b5hafwA%3D%3D)\n",
    "The array has 2 groups, which each have two rows and 5 columns.\n",
    "\n",
    "Suppose we want to select the values 31 and 46. What is the intersection that produces these values?"
   ]
  },
  {
   "cell_type": "code",
   "execution_count": 13,
   "metadata": {},
   "outputs": [],
   "source": [
    "#Your input here"
   ]
  },
  {
   "cell_type": "markdown",
   "metadata": {},
   "source": [
    "![image](https://raw.githubusercontent.com/katyabbott/BridgeUP-STEM-Oceans-Six/master/photos/Screen%20Shot%202018-11-02%20at%206.21.08%20PM.png?token=AmUbDgRhgeVZZpUBQaDaKTYhYK3bTYN7ks5b5hbKwA%3D%3D)"
   ]
  },
  {
   "cell_type": "markdown",
   "metadata": {
    "collapsed": true
   },
   "source": [
    "## Some more challenges"
   ]
  },
  {
   "cell_type": "code",
   "execution_count": 21,
   "metadata": {},
   "outputs": [
    {
     "data": {
      "text/plain": [
       "array([[[ 1,  4,  7, 10],\n",
       "        [13, 16, 19, 22],\n",
       "        [25, 28, 31, 34]],\n",
       "\n",
       "       [[37, 40, 43, 46],\n",
       "        [49, 52, 55, 58],\n",
       "        [61, 64, 67, 70]]])"
      ]
     },
     "execution_count": 21,
     "metadata": {},
     "output_type": "execute_result"
    }
   ],
   "source": [
    "a = np.arange(1,72,3).reshape(2,3,4)\n",
    "a"
   ]
  },
  {
   "cell_type": "markdown",
   "metadata": {},
   "source": [
    "In table form, this array looks like this: \n",
    "![image](https://raw.githubusercontent.com/katyabbott/BridgeUP-STEM-Oceans-Six/master/photos/Screen%20Shot%202018-11-07%20at%2011.28.01%20AM.png?token=AmUbDsZHg5EHq9S5uxfrb1KSySyaY5OGks5b7E2XwA%3D%3D)"
   ]
  },
  {
   "cell_type": "markdown",
   "metadata": {},
   "source": [
    "1. What code can you write to return the value '49'?\n",
    "2. What code can you write to return the third row in the first group?\n",
    "3. What code can you write to return the values '55' and '58'?\n",
    "\n",
    "If you're stuck, think about the intersections required to find each one of these values! What combination of rows, columns and groups are necessary?"
   ]
  },
  {
   "cell_type": "code",
   "execution_count": null,
   "metadata": {},
   "outputs": [],
   "source": [
    "# Your code here!"
   ]
  }
 ],
 "metadata": {
  "kernelspec": {
   "display_name": "Python 3",
   "language": "python",
   "name": "python3"
  },
  "language_info": {
   "codemirror_mode": {
    "name": "ipython",
    "version": 3
   },
   "file_extension": ".py",
   "mimetype": "text/x-python",
   "name": "python",
   "nbconvert_exporter": "python",
   "pygments_lexer": "ipython3",
   "version": "3.6.6"
  }
 },
 "nbformat": 4,
 "nbformat_minor": 2
}
